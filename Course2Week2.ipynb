{
 "cells": [
  {
   "cell_type": "code",
   "execution_count": 1,
   "id": "c94573c9",
   "metadata": {},
   "outputs": [],
   "source": [
    "#CROSS VALIDATION AND PIPELINE FUNCTIONALITY"
   ]
  },
  {
   "cell_type": "code",
   "execution_count": 4,
   "id": "9e37e213",
   "metadata": {},
   "outputs": [],
   "source": [
    "import numpy as np\n",
    "import pickle\n",
    "import pandas as pd\n",
    "import matplotlib.pyplot as plt\n",
    "import os\n",
    "\n",
    "\n",
    "from sklearn.preprocessing import StandardScaler, PolynomialFeatures\n",
    "from sklearn.model_selection import KFold,cross_val_predict\n",
    "from sklearn.linear_model import LinearRegression,Lasso,Ridge\n",
    "from sklearn.metrics import r2_score\n",
    "from sklearn.pipeline import Pipeline"
   ]
  },
  {
   "cell_type": "code",
   "execution_count": 14,
   "id": "f18a39bb",
   "metadata": {},
   "outputs": [],
   "source": [
    "#lOAD IN THE PICKLE FILE\n",
    "\n",
    "folder='IBM_DATA_C2_W2'\n",
    "file='boston_housing_clean.pickle'\n",
    "url=os.path.join(folder,file)\n",
    "\n",
    "boston=pickle.load(open(url,\"rb\"))"
   ]
  },
  {
   "cell_type": "code",
   "execution_count": 16,
   "id": "3e5b5c1c",
   "metadata": {},
   "outputs": [
    {
     "data": {
      "text/plain": [
       "dict_keys(['dataframe', 'description'])"
      ]
     },
     "execution_count": 16,
     "metadata": {},
     "output_type": "execute_result"
    }
   ],
   "source": [
    "boston.keys()"
   ]
  },
  {
   "cell_type": "code",
   "execution_count": 19,
   "id": "7d54de00",
   "metadata": {},
   "outputs": [],
   "source": [
    "boston_data=boston['dataframe']\n",
    "boston_description=boston['description']"
   ]
  },
  {
   "cell_type": "code",
   "execution_count": 22,
   "id": "72b4786f",
   "metadata": {},
   "outputs": [
    {
     "data": {
      "text/html": [
       "<div>\n",
       "<style scoped>\n",
       "    .dataframe tbody tr th:only-of-type {\n",
       "        vertical-align: middle;\n",
       "    }\n",
       "\n",
       "    .dataframe tbody tr th {\n",
       "        vertical-align: top;\n",
       "    }\n",
       "\n",
       "    .dataframe thead th {\n",
       "        text-align: right;\n",
       "    }\n",
       "</style>\n",
       "<table border=\"1\" class=\"dataframe\">\n",
       "  <thead>\n",
       "    <tr style=\"text-align: right;\">\n",
       "      <th></th>\n",
       "      <th>CRIM</th>\n",
       "      <th>ZN</th>\n",
       "      <th>INDUS</th>\n",
       "      <th>CHAS</th>\n",
       "      <th>NOX</th>\n",
       "      <th>RM</th>\n",
       "      <th>AGE</th>\n",
       "      <th>DIS</th>\n",
       "      <th>RAD</th>\n",
       "      <th>TAX</th>\n",
       "      <th>PTRATIO</th>\n",
       "      <th>B</th>\n",
       "      <th>LSTAT</th>\n",
       "      <th>MEDV</th>\n",
       "    </tr>\n",
       "  </thead>\n",
       "  <tbody>\n",
       "    <tr>\n",
       "      <th>0</th>\n",
       "      <td>0.00632</td>\n",
       "      <td>18.0</td>\n",
       "      <td>2.31</td>\n",
       "      <td>0.0</td>\n",
       "      <td>0.538</td>\n",
       "      <td>6.575</td>\n",
       "      <td>65.2</td>\n",
       "      <td>4.0900</td>\n",
       "      <td>1.0</td>\n",
       "      <td>296.0</td>\n",
       "      <td>15.3</td>\n",
       "      <td>396.90</td>\n",
       "      <td>4.98</td>\n",
       "      <td>24.0</td>\n",
       "    </tr>\n",
       "    <tr>\n",
       "      <th>1</th>\n",
       "      <td>0.02731</td>\n",
       "      <td>0.0</td>\n",
       "      <td>7.07</td>\n",
       "      <td>0.0</td>\n",
       "      <td>0.469</td>\n",
       "      <td>6.421</td>\n",
       "      <td>78.9</td>\n",
       "      <td>4.9671</td>\n",
       "      <td>2.0</td>\n",
       "      <td>242.0</td>\n",
       "      <td>17.8</td>\n",
       "      <td>396.90</td>\n",
       "      <td>9.14</td>\n",
       "      <td>21.6</td>\n",
       "    </tr>\n",
       "    <tr>\n",
       "      <th>2</th>\n",
       "      <td>0.02729</td>\n",
       "      <td>0.0</td>\n",
       "      <td>7.07</td>\n",
       "      <td>0.0</td>\n",
       "      <td>0.469</td>\n",
       "      <td>7.185</td>\n",
       "      <td>61.1</td>\n",
       "      <td>4.9671</td>\n",
       "      <td>2.0</td>\n",
       "      <td>242.0</td>\n",
       "      <td>17.8</td>\n",
       "      <td>392.83</td>\n",
       "      <td>4.03</td>\n",
       "      <td>34.7</td>\n",
       "    </tr>\n",
       "    <tr>\n",
       "      <th>3</th>\n",
       "      <td>0.03237</td>\n",
       "      <td>0.0</td>\n",
       "      <td>2.18</td>\n",
       "      <td>0.0</td>\n",
       "      <td>0.458</td>\n",
       "      <td>6.998</td>\n",
       "      <td>45.8</td>\n",
       "      <td>6.0622</td>\n",
       "      <td>3.0</td>\n",
       "      <td>222.0</td>\n",
       "      <td>18.7</td>\n",
       "      <td>394.63</td>\n",
       "      <td>2.94</td>\n",
       "      <td>33.4</td>\n",
       "    </tr>\n",
       "    <tr>\n",
       "      <th>4</th>\n",
       "      <td>0.06905</td>\n",
       "      <td>0.0</td>\n",
       "      <td>2.18</td>\n",
       "      <td>0.0</td>\n",
       "      <td>0.458</td>\n",
       "      <td>7.147</td>\n",
       "      <td>54.2</td>\n",
       "      <td>6.0622</td>\n",
       "      <td>3.0</td>\n",
       "      <td>222.0</td>\n",
       "      <td>18.7</td>\n",
       "      <td>396.90</td>\n",
       "      <td>5.33</td>\n",
       "      <td>36.2</td>\n",
       "    </tr>\n",
       "  </tbody>\n",
       "</table>\n",
       "</div>"
      ],
      "text/plain": [
       "      CRIM    ZN  INDUS  CHAS    NOX     RM   AGE     DIS  RAD    TAX  \\\n",
       "0  0.00632  18.0   2.31   0.0  0.538  6.575  65.2  4.0900  1.0  296.0   \n",
       "1  0.02731   0.0   7.07   0.0  0.469  6.421  78.9  4.9671  2.0  242.0   \n",
       "2  0.02729   0.0   7.07   0.0  0.469  7.185  61.1  4.9671  2.0  242.0   \n",
       "3  0.03237   0.0   2.18   0.0  0.458  6.998  45.8  6.0622  3.0  222.0   \n",
       "4  0.06905   0.0   2.18   0.0  0.458  7.147  54.2  6.0622  3.0  222.0   \n",
       "\n",
       "   PTRATIO       B  LSTAT  MEDV  \n",
       "0     15.3  396.90   4.98  24.0  \n",
       "1     17.8  396.90   9.14  21.6  \n",
       "2     17.8  392.83   4.03  34.7  \n",
       "3     18.7  394.63   2.94  33.4  \n",
       "4     18.7  396.90   5.33  36.2  "
      ]
     },
     "execution_count": 22,
     "metadata": {},
     "output_type": "execute_result"
    }
   ],
   "source": [
    "boston_data.head()"
   ]
  },
  {
   "cell_type": "code",
   "execution_count": 24,
   "id": "d46ce722",
   "metadata": {},
   "outputs": [
    {
     "data": {
      "text/plain": [
       "\"Boston House Prices dataset\\n===========================\\n\\nNotes\\n------\\nData Set Characteristics:  \\n\\n    :Number of Instances: 506 \\n\\n    :Number of Attributes: 13 numeric/categorical predictive\\n    \\n    :Median Value (attribute 14) is usually the target\\n\\n    :Attribute Information (in order):\\n        - CRIM     per capita crime rate by town\\n        - ZN       proportion of residential land zoned for lots over 25,000 sq.ft.\\n        - INDUS    proportion of non-retail business acres per town\\n        - CHAS     Charles River dummy variable (= 1 if tract bounds river; 0 otherwise)\\n        - NOX      nitric oxides concentration (parts per 10 million)\\n        - RM       average number of rooms per dwelling\\n        - AGE      proportion of owner-occupied units built prior to 1940\\n        - DIS      weighted distances to five Boston employment centres\\n        - RAD      index of accessibility to radial highways\\n        - TAX      full-value property-tax rate per $10,000\\n        - PTRATIO  pupil-teacher ratio by town\\n        - B        1000(Bk - 0.63)^2 where Bk is the proportion of blacks by town\\n        - LSTAT    % lower status of the population\\n        - MEDV     Median value of owner-occupied homes in $1000's\\n\\n    :Missing Attribute Values: None\\n\\n    :Creator: Harrison, D. and Rubinfeld, D.L.\\n\\nThis is a copy of UCI ML housing dataset.\\nhttp://archive.ics.uci.edu/ml/datasets/Housing\\n\\n\\nThis dataset was taken from the StatLib library which is maintained at Carnegie Mellon University.\\n\\nThe Boston house-price data of Harrison, D. and Rubinfeld, D.L. 'Hedonic\\nprices and the demand for clean air', J. Environ. Economics & Management,\\nvol.5, 81-102, 1978.   Used in Belsley, Kuh & Welsch, 'Regression diagnostics\\n...', Wiley, 1980.   N.B. Various transformations are used in the table on\\npages 244-261 of the latter.\\n\\nThe Boston house-price data has been used in many machine learning papers that address regression\\nproblems.   \\n     \\n**References**\\n\\n   - Belsley, Kuh & Welsch, 'Regression diagnostics: Identifying Influential Data and Sources of Collinearity', Wiley, 1980. 244-261.\\n   - Quinlan,R. (1993). Combining Instance-Based and Model-Based Learning. In Proceedings on the Tenth International Conference of Machine Learning, 236-243, University of Massachusetts, Amherst. Morgan Kaufmann.\\n   - many more! (see http://archive.ics.uci.edu/ml/datasets/Housing)\\n\""
      ]
     },
     "execution_count": 24,
     "metadata": {},
     "output_type": "execute_result"
    }
   ],
   "source": [
    "boston_description"
   ]
  },
  {
   "cell_type": "markdown",
   "id": "9a308419",
   "metadata": {},
   "source": [
    "# KFold"
   ]
  },
  {
   "cell_type": "code",
   "execution_count": 27,
   "id": "65d5955e",
   "metadata": {},
   "outputs": [],
   "source": [
    "#remove the outcome/target variable and keep only the predictors\n",
    "X=boston_data.drop('MEDV',axis=1)\n",
    "\n",
    "#the target variable\n",
    "y=boston_data.MEDV"
   ]
  },
  {
   "cell_type": "code",
   "execution_count": 28,
   "id": "c05c0d36",
   "metadata": {},
   "outputs": [],
   "source": [
    "kf=KFold(shuffle=True,random_state=72018,n_splits=3)"
   ]
  },
  {
   "cell_type": "code",
   "execution_count": 32,
   "id": "664fc48d",
   "metadata": {},
   "outputs": [
    {
     "data": {
      "text/plain": [
       "<generator object _BaseKFold.split at 0x000001D29E377F20>"
      ]
     },
     "execution_count": 32,
     "metadata": {},
     "output_type": "execute_result"
    }
   ],
   "source": [
    "kf.split(X)"
   ]
  },
  {
   "cell_type": "code",
   "execution_count": 46,
   "id": "f10ec02d",
   "metadata": {},
   "outputs": [
    {
     "name": "stdout",
     "output_type": "stream",
     "text": [
      "Train index (first 10 only displaying) [ 1  3  4  5  7  8 10 11 12 13] Split Length: 337\n",
      "Test index (first 10 only displaying) [ 0  2  6  9 15 17 19 23 25 26] Split Length: 169\n",
      "\n",
      "Train index (first 10 only displaying) [ 0  2  6  9 10 11 12 13 15 17] Split Length: 337\n",
      "Test index (first 10 only displaying) [ 1  3  4  5  7  8 14 16 22 27] Split Length: 169\n",
      "\n",
      "Train index (first 10 only displaying) [0 1 2 3 4 5 6 7 8 9] Split Length: 338\n",
      "Test index (first 10 only displaying) [10 11 12 13 18 20 21 24 28 31] Split Length: 168\n",
      "\n"
     ]
    }
   ],
   "source": [
    "for train_index,test_index in kf.split(X):\n",
    "    print('Train index (first 10 only displaying)',train_index[:10],'Split Length:',len(train_index))\n",
    "    print('Test index (first 10 only displaying)',test_index[:10],'Split Length:',len(test_index))\n",
    "    print()"
   ]
  },
  {
   "cell_type": "code",
   "execution_count": 38,
   "id": "ecd9d52d",
   "metadata": {},
   "outputs": [
    {
     "data": {
      "text/plain": [
       "[0.6719348798472763, 0.7485020059212382, 0.6976807323597768]"
      ]
     },
     "execution_count": 38,
     "metadata": {},
     "output_type": "execute_result"
    }
   ],
   "source": [
    "#MEASURE THE MODEL ACCURACY\n",
    "#r2_score, mean_squared_error\n",
    "\n",
    "scores=[]\n",
    "lr=LinearRegression()\n",
    "\n",
    "for train_index,test_index in kf.split(X):\n",
    "    X_train,X_test,y_train,y_test=(X.iloc[train_index,:],\n",
    "                                   X.iloc[test_index,:],\n",
    "                                    y[train_index],\n",
    "                                    y[test_index])\n",
    "    lr.fit(X_train,y_train)\n",
    "    y_pred=lr.predict(X_test)\n",
    "    score=r2_score(y_test.values,y_pred)\n",
    "    scores.append(score)\n",
    "scores"
   ]
  },
  {
   "cell_type": "markdown",
   "id": "3ae2e10d",
   "metadata": {},
   "source": [
    "<h2>CROSS VALIDATION</h2>"
   ]
  },
  {
   "cell_type": "code",
   "execution_count": 51,
   "id": "4745408a",
   "metadata": {},
   "outputs": [
    {
     "data": {
      "text/plain": [
       "[0.6719348798472715, 0.748502005921238, 0.6976807323597745]"
      ]
     },
     "execution_count": 51,
     "metadata": {},
     "output_type": "execute_result"
    }
   ],
   "source": [
    "scores=[]\n",
    "lr=LinearRegression()\n",
    "s=StandardScaler()\n",
    "\n",
    "for train_index,test_index in kf.split(X):\n",
    "    X_train,X_test,y_train,y_test=(X.iloc[train_index,:],\n",
    "                                   X.iloc[test_index,:],\n",
    "                                    y[train_index],\n",
    "                                    y[test_index])\n",
    "    X_train_s=s.fit_transform(X_train)\n",
    "    lr.fit(X_train_s,y_train)\n",
    "    \n",
    "    X_test_s=s.transform(X_test)\n",
    "    y_pred=lr.predict(X_test_s)\n",
    "    \n",
    "    score=r2_score(y_test.values,y_pred)\n",
    "    scores.append(score)\n",
    "scores"
   ]
  },
  {
   "cell_type": "markdown",
   "id": "bcda2f8c",
   "metadata": {},
   "source": [
    "<h2>PIPELINE AND CROSS_VAL_PREDICT</h2>"
   ]
  },
  {
   "cell_type": "code",
   "execution_count": 52,
   "id": "7cec645f",
   "metadata": {},
   "outputs": [],
   "source": [
    "s=StandardScaler()\n",
    "lr=LinearRegression()"
   ]
  },
  {
   "cell_type": "code",
   "execution_count": null,
   "id": "71c6be29",
   "metadata": {},
   "outputs": [],
   "source": [
    "#pipeline\n",
    "\n",
    "#A pipeline contains a series of steps. The name of step string is only used to help you identify which \n",
    "#step you are on, and to allow you to specify parameters at that step\n",
    "\n",
    "#each model should have a fit method to be in a pipeline"
   ]
  },
  {
   "cell_type": "code",
   "execution_count": 53,
   "id": "3ec1b1df",
   "metadata": {},
   "outputs": [],
   "source": [
    "estimator=Pipeline([('scaler',s),('regression',lr)])"
   ]
  },
  {
   "cell_type": "code",
   "execution_count": 54,
   "id": "f9935054",
   "metadata": {},
   "outputs": [
    {
     "data": {
      "text/plain": [
       "Pipeline(steps=[('scaler', StandardScaler()),\n",
       "                ('regression', LinearRegression())])"
      ]
     },
     "execution_count": 54,
     "metadata": {},
     "output_type": "execute_result"
    }
   ],
   "source": [
    "estimator.fit(X_train,y_train)"
   ]
  },
  {
   "cell_type": "code",
   "execution_count": 55,
   "id": "6e92a978",
   "metadata": {},
   "outputs": [
    {
     "data": {
      "text/plain": [
       "array([19.44230308, 22.8687781 , 20.72201438, 20.19685225, 16.02553328,\n",
       "       13.19670707, 18.48717304, 16.41260539, 20.08040483, 19.16027923,\n",
       "       23.03341265, 23.52809897, 24.64808538, 23.84554003, 22.37992895,\n",
       "       18.54423788,  9.23453025, 24.86310535, 27.35965358, 29.95093715,\n",
       "       21.71928179, 18.63649236, 19.67735609, 29.98064881, 20.78659698,\n",
       "       17.29484103, 20.88767674, 23.59352298, 23.01287114, 24.82516061,\n",
       "       28.1550891 , 26.59019417, 28.40170962, 28.61954803, 28.99730977,\n",
       "       25.46130359, 20.83346878, 21.39384122, 21.12590183, 24.80991192,\n",
       "       22.64896843, 20.63582629, 20.04498128, 20.28679691, 16.04272023,\n",
       "       15.75494076, 12.78067624, 11.43558055, 21.98898014, 23.31730716,\n",
       "       24.28692882, 21.28789025, 14.88646576, 31.00959189, 35.37282463,\n",
       "       37.57270926, 23.58942636, 24.75302163, 30.63215847, 34.85770942,\n",
       "       32.94090699, 30.0536187 , 39.86200512, 29.05010705, 35.53401305,\n",
       "       41.89294309, 23.54417467, 23.61752172,  8.51966664, 24.3803473 ,\n",
       "       31.93213161, 35.04907462, 33.74198666, 30.95975523, 38.16572411,\n",
       "       34.04572219, 25.50003895, 26.9008276 , 26.81331202, 17.52450192,\n",
       "       23.0561211 , 23.35940105, 27.41662679, 37.95283941, 35.39695531,\n",
       "       37.15560829, 30.16078745, 31.7987809 , 22.17460829, 36.87065984,\n",
       "       29.95618041, 35.45099005, 38.96516444, 19.04113986, 27.03723525,\n",
       "       33.28276705, 19.71614458, 30.7356145 , 35.74753519, 33.31789906,\n",
       "       29.82085216, 19.17675208, 26.73030054, 18.85119288, 25.10080811,\n",
       "       25.2310572 , 23.35918589, 20.55011533, 23.44439899, 21.43873939,\n",
       "       22.28755319, 21.55265486, 22.1886005 , 30.13309578, 27.73873544,\n",
       "       27.83343144, 21.22476747, 20.29426743, 16.43151094, 24.1989263 ,\n",
       "       23.86222031, 20.4568203 , 22.28180574, 36.99716281,  6.35326377,\n",
       "       25.54462242, 15.91166325, 14.2172422 ,  8.43052398, 21.03393529,\n",
       "       19.10628664, 19.46324302, 12.20521866, 18.2420435 , 18.49378935,\n",
       "       21.90422664, 13.82169579, 19.42918743,  8.44262399,  7.195685  ,\n",
       "       20.36534151, 19.00376186, 17.79256504, 17.87715422, 21.34551178,\n",
       "        8.19204123,  3.32788461, 11.70535034, 11.96121376, 18.89797015,\n",
       "       22.06307051, 14.60280556, 23.32232899, 14.26431606, 20.57202772,\n",
       "       19.80582497, 27.50273944, 19.08219115, 21.53979588, 13.11731152,\n",
       "       15.37086566, 20.96805073, 20.21749107, 19.62802415, 21.55434999,\n",
       "       20.98843917, 23.32746873, 26.67017418])"
      ]
     },
     "execution_count": 55,
     "metadata": {},
     "output_type": "execute_result"
    }
   ],
   "source": [
    "estimator.predict(X_test)"
   ]
  },
  {
   "cell_type": "markdown",
   "id": "eb2fdd99",
   "metadata": {},
   "source": [
    "<h3>cross_val_predict</h3>\n",
    "cross_val_predict is a function that does K-Fold cross validation for us, \n",
    "approximately fitting and transforming at every step of the way"
   ]
  },
  {
   "cell_type": "code",
   "execution_count": 56,
   "id": "3f0f16e8",
   "metadata": {},
   "outputs": [
    {
     "data": {
      "text/plain": [
       "KFold(n_splits=3, random_state=72018, shuffle=True)"
      ]
     },
     "execution_count": 56,
     "metadata": {},
     "output_type": "execute_result"
    }
   ],
   "source": [
    "kf"
   ]
  },
  {
   "cell_type": "code",
   "execution_count": 58,
   "id": "a5a62a16",
   "metadata": {},
   "outputs": [],
   "source": [
    "prediction=cross_val_predict(estimator,X,y,cv=kf)"
   ]
  },
  {
   "cell_type": "code",
   "execution_count": 59,
   "id": "90092c1a",
   "metadata": {},
   "outputs": [
    {
     "data": {
      "text/plain": [
       "506"
      ]
     },
     "execution_count": 59,
     "metadata": {},
     "output_type": "execute_result"
    }
   ],
   "source": [
    "len(prediction)"
   ]
  },
  {
   "cell_type": "code",
   "execution_count": 62,
   "id": "7760c577",
   "metadata": {},
   "outputs": [
    {
     "data": {
      "text/plain": [
       "0.706353106416156"
      ]
     },
     "execution_count": 62,
     "metadata": {},
     "output_type": "execute_result"
    }
   ],
   "source": [
    "r2_score(y,prediction)"
   ]
  },
  {
   "cell_type": "code",
   "execution_count": 64,
   "id": "c3cace1b",
   "metadata": {},
   "outputs": [
    {
     "data": {
      "text/plain": [
       "0.7060392060427613"
      ]
     },
     "execution_count": 64,
     "metadata": {},
     "output_type": "execute_result"
    }
   ],
   "source": [
    "#from data below without using cross_val_predict\n",
    "np.mean(scores)"
   ]
  },
  {
   "cell_type": "markdown",
   "id": "69ab9f4f",
   "metadata": {},
   "source": [
    "# HYPERPARAMETER TUNING"
   ]
  },
  {
   "cell_type": "markdown",
   "id": "843b6887",
   "metadata": {},
   "source": [
    "<h3>Parameters: Are learned by the model using machine learning</h3>\n",
    "<h2>VS</h2>\n",
    "<h3>Hyperparameters: Parts of our model that are tuned by us (users)</h3> "
   ]
  },
  {
   "cell_type": "markdown",
   "id": "e7c944c5",
   "metadata": {},
   "source": [
    "Hyperparameter tuning invloves using cross validation to determine which hyperparameters \n",
    "are most likely to generate a model that generalizes well outside of our sample"
   ]
  },
  {
   "cell_type": "markdown",
   "id": "846ed940",
   "metadata": {},
   "source": [
    "<h2>Mechanics</h2>\n",
    "\n",
    "<h4>We can generate an exponentially spaces range of values using the numpy geomspace function</h4>\n"
   ]
  },
  {
   "cell_type": "code",
   "execution_count": 68,
   "id": "4821c3a6",
   "metadata": {},
   "outputs": [
    {
     "data": {
      "text/plain": [
       "array([2., 4., 8.])"
      ]
     },
     "execution_count": 68,
     "metadata": {},
     "output_type": "execute_result"
    }
   ],
   "source": [
    "np.geomspace(2,8,3)"
   ]
  },
  {
   "cell_type": "code",
   "execution_count": 70,
   "id": "db51c0a1",
   "metadata": {},
   "outputs": [
    {
     "data": {
      "text/plain": [
       "array([  1.,  10., 100.])"
      ]
     },
     "execution_count": 70,
     "metadata": {},
     "output_type": "execute_result"
    }
   ],
   "source": [
    "np.geomspace(1,100,3)"
   ]
  },
  {
   "cell_type": "code",
   "execution_count": 73,
   "id": "a4fe1f79",
   "metadata": {},
   "outputs": [
    {
     "data": {
      "text/plain": [
       "array([1.e-09, 1.e-08, 1.e-07, 1.e-06, 1.e-05, 1.e-04, 1.e-03, 1.e-02,\n",
       "       1.e-01, 1.e+00])"
      ]
     },
     "execution_count": 73,
     "metadata": {},
     "output_type": "execute_result"
    }
   ],
   "source": [
    "alphas=np.geomspace(1e-9,1e0,num=10)\n",
    "alphas"
   ]
  },
  {
   "cell_type": "code",
   "execution_count": 75,
   "id": "f683e5f0",
   "metadata": {},
   "outputs": [],
   "source": [
    "scores=[]\n",
    "coefs=[]\n",
    "\n",
    "for alpha in alphas:\n",
    "    las=Lasso(alpha=alpha,max_iter=100000)\n",
    "    estimator=Pipeline([\n",
    "        ('scaler',s),\n",
    "        ('lasso_regression',las)\n",
    "    ])\n",
    "    prediction=cross_val_predict(estimator,X,y,cv=kf)\n",
    "    score=r2_score(y,prediction)\n",
    "    scores.append(score)"
   ]
  },
  {
   "cell_type": "code",
   "execution_count": 76,
   "id": "6454e628",
   "metadata": {},
   "outputs": [
    {
     "data": {
      "text/plain": [
       "[(1e-09, 0.7063531064981925),\n",
       " (1e-08, 0.7063531072356071),\n",
       " (1e-07, 0.7063531145602442),\n",
       " (1e-06, 0.7063531882052063),\n",
       " (1e-05, 0.7063539165191507),\n",
       " (0.0001, 0.706361268093463),\n",
       " (0.001, 0.706433467041546),\n",
       " (0.01, 0.7070865958083233),\n",
       " (0.1, 0.705838151167185),\n",
       " (1.0, 0.6512724532884887)]"
      ]
     },
     "execution_count": 76,
     "metadata": {},
     "output_type": "execute_result"
    }
   ],
   "source": [
    "list(zip(alphas,scores))"
   ]
  },
  {
   "cell_type": "code",
   "execution_count": 77,
   "id": "6cfdbbf2",
   "metadata": {},
   "outputs": [
    {
     "data": {
      "text/plain": [
       "array([-1.07170372e-01,  4.63952623e-02,  2.08588308e-02,  2.68854318e+00,\n",
       "       -1.77954207e+01,  3.80475296e+00,  7.50802707e-04, -1.47575348e+00,\n",
       "        3.05654279e-01, -1.23293755e-02, -9.53459908e-01,  9.39253013e-03,\n",
       "       -5.25467196e-01])"
      ]
     },
     "execution_count": 77,
     "metadata": {},
     "output_type": "execute_result"
    }
   ],
   "source": [
    "Lasso(alpha=1e-6).fit(X,y).coef_"
   ]
  },
  {
   "cell_type": "code",
   "execution_count": 78,
   "id": "900339e7",
   "metadata": {},
   "outputs": [
    {
     "data": {
      "text/plain": [
       "array([-0.06342255,  0.04916867, -0.        ,  0.        , -0.        ,\n",
       "        0.94678567,  0.02092737, -0.66900864,  0.26417501, -0.01520915,\n",
       "       -0.72319901,  0.00829117, -0.76143296])"
      ]
     },
     "execution_count": 78,
     "metadata": {},
     "output_type": "execute_result"
    }
   ],
   "source": [
    "Lasso(alpha=1).fit(X,y).coef_"
   ]
  },
  {
   "cell_type": "code",
   "execution_count": 82,
   "id": "d3f7ada0",
   "metadata": {},
   "outputs": [
    {
     "data": {
      "text/plain": [
       "Text(0, 0.5, '$R^2$')"
      ]
     },
     "execution_count": 82,
     "metadata": {},
     "output_type": "execute_result"
    },
    {
     "data": {
      "image/png": "[encoded data removed]",
      "text/plain": [
       "<Figure size 720x432 with 1 Axes>"
      ]
     },
     "metadata": {
      "needs_background": "light"
     },
     "output_type": "display_data"
    }
   ],
   "source": [
    "plt.figure(figsize=(10,6))\n",
    "plt.semilogx(alphas,scores,'-o')\n",
    "plt.xlabel('$\\\\alpha$')\n",
    "plt.ylabel('$R^2$')"
   ]
  },
  {
   "cell_type": "code",
   "execution_count": 83,
   "id": "951595b3",
   "metadata": {},
   "outputs": [],
   "source": [
    "#Add POLYNOMIAL FEATURES TO THE PIPELINE"
   ]
  },
  {
   "cell_type": "code",
   "execution_count": 86,
   "id": "de3f9861",
   "metadata": {},
   "outputs": [
    {
     "name": "stderr",
     "output_type": "stream",
     "text": [
      "c:\\pythoninstalled\\lib\\site-packages\\sklearn\\linear_model\\_coordinate_descent.py:647: ConvergenceWarning: Objective did not converge. You might want to increase the number of iterations, check the scale of the features or consider increasing regularisation. Duality gap: 4.084e+01, tolerance: 2.735e+00\n",
      "  model = cd_fast.enet_coordinate_descent(\n",
      "c:\\pythoninstalled\\lib\\site-packages\\sklearn\\linear_model\\_coordinate_descent.py:647: ConvergenceWarning: Objective did not converge. You might want to increase the number of iterations, check the scale of the features or consider increasing regularisation. Duality gap: 3.343e+01, tolerance: 2.777e+00\n",
      "  model = cd_fast.enet_coordinate_descent(\n",
      "c:\\pythoninstalled\\lib\\site-packages\\sklearn\\linear_model\\_coordinate_descent.py:647: ConvergenceWarning: Objective did not converge. You might want to increase the number of iterations, check the scale of the features or consider increasing regularisation. Duality gap: 3.885e+01, tolerance: 3.030e+00\n",
      "  model = cd_fast.enet_coordinate_descent(\n"
     ]
    }
   ],
   "source": [
    "pf=PolynomialFeatures(degree=3)\n",
    "\n",
    "scores=[]\n",
    "alphas=np.geomspace(0.001,10,5)\n",
    "for alpha in alphas:\n",
    "    las=Lasso(alpha=alpha,max_iter=100000)\n",
    "    estimator=Pipeline([\n",
    "        ('make_higher_degree',pf),\n",
    "        ('scaler',s),\n",
    "        ('lasso_regression',las)\n",
    "    ])\n",
    "    prediction=cross_val_predict(estimator,X,y,cv=kf)\n",
    "    score=r2_score(y,prediction)\n",
    "    scores.append(score)"
   ]
  },
  {
   "cell_type": "code",
   "execution_count": 87,
   "id": "8f7a21da",
   "metadata": {},
   "outputs": [
    {
     "data": {
      "text/plain": [
       "array([1.e-03, 1.e-02, 1.e-01, 1.e+00, 1.e+01])"
      ]
     },
     "execution_count": 87,
     "metadata": {},
     "output_type": "execute_result"
    }
   ],
   "source": [
    "alphas"
   ]
  },
  {
   "cell_type": "code",
   "execution_count": 89,
   "id": "9749d7c4",
   "metadata": {},
   "outputs": [
    {
     "data": {
      "text/plain": [
       "[0.7697086980421659,\n",
       " 0.8591002095361691,\n",
       " 0.8280423631185617,\n",
       " 0.7328688516176427,\n",
       " -0.000616160136140298]"
      ]
     },
     "execution_count": 89,
     "metadata": {},
     "output_type": "execute_result"
    }
   ],
   "source": [
    "scores"
   ]
  },
  {
   "cell_type": "code",
   "execution_count": 90,
   "id": "ad137400",
   "metadata": {},
   "outputs": [
    {
     "data": {
      "text/plain": [
       "[(0.001, 0.7697086980421659),\n",
       " (0.01, 0.8591002095361691),\n",
       " (0.1, 0.8280423631185617),\n",
       " (1.0, 0.7328688516176427),\n",
       " (10.0, -0.000616160136140298)]"
      ]
     },
     "execution_count": 90,
     "metadata": {},
     "output_type": "execute_result"
    }
   ],
   "source": [
    "list(zip(alphas,scores))"
   ]
  },
  {
   "cell_type": "code",
   "execution_count": 91,
   "id": "c21f727a",
   "metadata": {},
   "outputs": [
    {
     "data": {
      "text/plain": [
       "[<matplotlib.lines.Line2D at 0x1d2a3ecf040>]"
      ]
     },
     "execution_count": 91,
     "metadata": {},
     "output_type": "execute_result"
    },
    {
     "data": {
      "image/png": "[encoded data removed]",
      "text/plain": [
       "<Figure size 432x288 with 1 Axes>"
      ]
     },
     "metadata": {
      "needs_background": "light"
     },
     "output_type": "display_data"
    }
   ],
   "source": [
    "plt.semilogx(alphas,scores)"
   ]
  },
  {
   "cell_type": "code",
   "execution_count": 93,
   "id": "09d88ead",
   "metadata": {},
   "outputs": [
    {
     "data": {
      "text/plain": [
       "0.9032551408154241"
      ]
     },
     "execution_count": 93,
     "metadata": {},
     "output_type": "execute_result"
    }
   ],
   "source": [
    "#once we have found the hyperparameter (alpha-1e-2=0.1)\n",
    "#make the ,odel and train it on ALL the data\n",
    "#then release it into the wild .....\n",
    "\n",
    "best_estimator=Pipeline([\n",
    "    ('make_higher_degree',PolynomialFeatures(degree=2)),\n",
    "    ('scaler',s),\n",
    "    ('lasso_regression',Lasso(alpha=0.01,max_iter=10000))\n",
    "])\n",
    "\n",
    "best_estimator.fit(X,y)\n",
    "best_estimator.score(X,y)"
   ]
  },
  {
   "cell_type": "code",
   "execution_count": 94,
   "id": "14276944",
   "metadata": {},
   "outputs": [
    {
     "data": {
      "text/plain": [
       "array([ 0.00000000e+00, -0.00000000e+00, -0.00000000e+00,  0.00000000e+00,\n",
       "        4.61127587e+00,  0.00000000e+00,  6.24240557e-01,  0.00000000e+00,\n",
       "       -7.22878514e+00,  9.74968793e+00,  0.00000000e+00,  0.00000000e+00,\n",
       "        6.34548325e-01,  0.00000000e+00,  9.95741679e-01, -5.51374291e-03,\n",
       "       -0.00000000e+00,  2.44370838e+00, -2.40444044e+00, -0.00000000e+00,\n",
       "       -0.00000000e+00, -2.23044443e-01, -0.00000000e+00, -0.00000000e+00,\n",
       "       -0.00000000e+00, -2.88128934e-01,  5.17203914e-01,  3.07715719e-01,\n",
       "       -3.39853933e-01, -9.86590910e-02, -0.00000000e+00,  2.72847487e-01,\n",
       "       -0.00000000e+00, -6.39829763e-01, -3.16474346e-01,  1.44555554e+00,\n",
       "        0.00000000e+00, -0.00000000e+00, -8.84630187e-01,  1.32081558e+00,\n",
       "        0.00000000e+00,  0.00000000e+00, -0.00000000e+00,  2.63148300e+00,\n",
       "       -2.62941147e-01,  0.00000000e+00,  9.08410143e-01, -8.17144528e-01,\n",
       "        0.00000000e+00, -4.31628234e+00,  5.53254405e-01, -2.91912598e+00,\n",
       "       -4.68486241e+00,  5.80360142e-01,  6.93705854e-01, -1.43087388e+00,\n",
       "       -0.00000000e+00,  0.00000000e+00,  1.80219873e+00, -7.93324201e-01,\n",
       "        0.00000000e+00, -2.99366807e-01, -0.00000000e+00, -0.00000000e+00,\n",
       "       -9.26619562e-01, -0.00000000e+00, -1.52207140e+00,  0.00000000e+00,\n",
       "        1.59132103e-01,  8.59406852e+00, -1.79580442e+00,  0.00000000e+00,\n",
       "       -4.43064063e+00, -6.67704537e+00, -2.78398024e+00,  4.36511083e-01,\n",
       "       -2.07418701e+00, -0.00000000e+00,  4.42278783e-01,  1.97121461e+00,\n",
       "        0.00000000e+00, -0.00000000e+00, -5.63885266e-01, -1.90366836e+00,\n",
       "        3.79255941e+00, -0.00000000e+00, -3.58998427e-01,  3.99107900e-01,\n",
       "       -0.00000000e+00,  8.70546159e-01, -0.00000000e+00,  0.00000000e+00,\n",
       "        0.00000000e+00,  0.00000000e+00, -4.54568143e+00,  0.00000000e+00,\n",
       "        5.12959518e+00,  0.00000000e+00, -6.41075173e-01,  3.19584847e-01,\n",
       "        1.08275771e+00,  0.00000000e+00, -4.07836880e-01, -1.15427697e+00,\n",
       "        5.63522883e+00])"
      ]
     },
     "execution_count": 94,
     "metadata": {},
     "output_type": "execute_result"
    }
   ],
   "source": [
    "best_estimator.named_steps[\"lasso_regression\"].coef_"
   ]
  },
  {
   "cell_type": "markdown",
   "id": "40223a50",
   "metadata": {},
   "source": [
    "# RIDGE REGRESSION"
   ]
  },
  {
   "cell_type": "code",
   "execution_count": 101,
   "id": "99f9c889",
   "metadata": {},
   "outputs": [],
   "source": [
    "pf=PolynomialFeatures(degree=2)\n",
    "\n",
    "scores=[]\n",
    "alphas=np.geomspace(0.1,2,20)\n",
    "for alpha in alphas:\n",
    "    ridge=Ridge(alpha=alpha,max_iter=100000)\n",
    "    estimator=Pipeline([\n",
    "        ('make_higher_degree',pf),\n",
    "        ('scaler',s),\n",
    "        ('ridge_regression',ridge)\n",
    "    ])\n",
    "    prediction=cross_val_predict(estimator,X,y,cv=kf)\n",
    "    score=r2_score(y,prediction)\n",
    "    scores.append(score)"
   ]
  },
  {
   "cell_type": "code",
   "execution_count": 102,
   "id": "07e70568",
   "metadata": {},
   "outputs": [
    {
     "data": {
      "text/plain": [
       "[<matplotlib.lines.Line2D at 0x1d2a41592e0>]"
      ]
     },
     "execution_count": 102,
     "metadata": {},
     "output_type": "execute_result"
    },
    {
     "data": {
      "image/png": "[encoded data removed]",
      "text/plain": [
       "<Figure size 432x288 with 1 Axes>"
      ]
     },
     "metadata": {
      "needs_background": "light"
     },
     "output_type": "display_data"
    }
   ],
   "source": [
    "plt.plot(alphas,scores)"
   ]
  },
  {
   "cell_type": "code",
   "execution_count": 104,
   "id": "14d6cee6",
   "metadata": {},
   "outputs": [],
   "source": [
    "#CONCLUSION : BOTH LASSO AND RIDGE WITH PROPER HYPERPARAMATER TUNING GIVE BETTER RESULT THAN PLAIN LINEAR REGRESSION"
   ]
  },
  {
   "cell_type": "code",
   "execution_count": 106,
   "id": "6c81b159",
   "metadata": {},
   "outputs": [],
   "source": [
    "#FOR INTERPRETABILITY OF A MODEL WE NEED TO MAKE SURE EVERY FEATURE IS IN THE SAME SCALE "
   ]
  },
  {
   "cell_type": "markdown",
   "id": "a052c46f",
   "metadata": {},
   "source": [
    "# GRID SEARCH CV "
   ]
  },
  {
   "cell_type": "code",
   "execution_count": 111,
   "id": "06a3a4a5",
   "metadata": {},
   "outputs": [],
   "source": [
    "#To do cross validation we used two techniques\n",
    "#->Use KFolds and manually create a loop to do cross validation\n",
    "#->Use cross_val_predict and score to get a cross_validated score in a couple of lines\n",
    "\n",
    "#To do hyper parameter tuning we see a general pattern\n",
    "#->Use cross_val_predict and score in a manually written loop over hyperparameters then select the best one\n",
    "\n",
    "#GridSearchV does this for us "
   ]
  },
  {
   "cell_type": "code",
   "execution_count": null,
   "id": "39bd9bb7",
   "metadata": {},
   "outputs": [],
   "source": []
  },
  {
   "cell_type": "code",
   "execution_count": 124,
   "id": "2081fa42",
   "metadata": {},
   "outputs": [],
   "source": [
    "from sklearn.model_selection import GridSearchCV\n",
    "\n",
    "estimator=Pipeline([\n",
    "    ('polynomial_features',PolynomialFeatures()),\n",
    "    ('scalar',StandardScaler()),\n",
    "    ('ridge_regression',Ridge())\n",
    "])\n",
    "params={\n",
    "    'polynomial_features__degree':[1,2,3],\n",
    "    'ridge_regression__alpha':np.geomspace(4,20,30)\n",
    "}\n",
    "grid=GridSearchCV(estimator,params,cv=kf)"
   ]
  },
  {
   "cell_type": "code",
   "execution_count": 125,
   "id": "4e994fa0",
   "metadata": {},
   "outputs": [
    {
     "data": {
      "text/plain": [
       "GridSearchCV(cv=KFold(n_splits=3, random_state=72018, shuffle=True),\n",
       "             estimator=Pipeline(steps=[('polynomial_features',\n",
       "                                        PolynomialFeatures()),\n",
       "                                       ('scalar', StandardScaler()),\n",
       "                                       ('ridge_regression', Ridge())]),\n",
       "             param_grid={'polynomial_features__degree': [1, 2, 3],\n",
       "                         'ridge_regression__alpha': array([ 4.        ,  4.22826702,  4.46956049,  4.7246238 ,  4.99424274,\n",
       "        5.27924796,  5.58051751,  5.89897953,  6.23561514,  6.59146146,\n",
       "        6.96761476,  7.36523392,  7.78554391,  8.22983963,  8.69948987,\n",
       "        9.19594151,  9.72072404, 10.27545421, 10.86184103, 11.48169104,\n",
       "       12.13691388, 12.82952815, 13.56166768, 14.33558803, 15.15367351,\n",
       "       16.01844446, 16.93256509, 17.89885162, 18.92028098, 20.        ])})"
      ]
     },
     "execution_count": 125,
     "metadata": {},
     "output_type": "execute_result"
    }
   ],
   "source": [
    "grid.fit(X,y)"
   ]
  },
  {
   "cell_type": "code",
   "execution_count": 126,
   "id": "dcede642",
   "metadata": {},
   "outputs": [
    {
     "data": {
      "text/plain": [
       "(0.8546333782070435,\n",
       " {'polynomial_features__degree': 2, 'ridge_regression__alpha': 4.0})"
      ]
     },
     "execution_count": 126,
     "metadata": {},
     "output_type": "execute_result"
    }
   ],
   "source": [
    "grid.best_score_,grid.best_params_"
   ]
  },
  {
   "cell_type": "code",
   "execution_count": 127,
   "id": "919ff148",
   "metadata": {},
   "outputs": [],
   "source": [
    "y_predict=grid.predict(X)"
   ]
  },
  {
   "cell_type": "code",
   "execution_count": 128,
   "id": "c4dea072",
   "metadata": {},
   "outputs": [
    {
     "data": {
      "text/plain": [
       "0.8964707714558101"
      ]
     },
     "execution_count": 128,
     "metadata": {},
     "output_type": "execute_result"
    }
   ],
   "source": [
    "r2_score(y,y_predict)"
   ]
  },
  {
   "cell_type": "code",
   "execution_count": 129,
   "id": "ac9be8c6",
   "metadata": {},
   "outputs": [
    {
     "data": {
      "text/plain": [
       "{'mean_fit_time': array([0.00700068, 0.00466824, 0.00400289, 0.0033342 , 0.00332046,\n",
       "        0.00434581, 0.00331823, 0.00400082, 0.00399947, 0.00366672,\n",
       "        0.00500139, 0.00333397, 0.00466768, 0.00399947, 0.00333373,\n",
       "        0.00433509, 0.00433381, 0.00366751, 0.00400043, 0.00333277,\n",
       "        0.00333357, 0.00433397, 0.00399979, 0.00366688, 0.00366704,\n",
       "        0.00300042, 0.00566808, 0.00566634, 0.00566602, 0.0043335 ,\n",
       "        0.00666547, 0.00666714, 0.00433326, 0.0049994 , 0.00633581,\n",
       "        0.00633605, 0.00800014, 0.00766579, 0.00566808, 0.0053335 ,\n",
       "        0.00500011, 0.00533358, 0.00933695, 0.01199937, 0.00666658,\n",
       "        0.0100023 , 0.00933337, 0.00800212, 0.00800069, 0.00700124,\n",
       "        0.00733201, 0.00733431, 0.00533477, 0.00433199, 0.00566641,\n",
       "        0.00466768, 0.00466585, 0.0046649 , 0.00566641, 0.00532969,\n",
       "        0.01433174, 0.01766769, 0.01466568, 0.01533286, 0.01633477,\n",
       "        0.01433142, 0.01299977, 0.01399867, 0.01866841, 0.01399994,\n",
       "        0.01266678, 0.01366671, 0.01333133, 0.0143044 , 0.01300112,\n",
       "        0.01434954, 0.01302886, 0.0133338 , 0.01417875, 0.01490188,\n",
       "        0.01366377, 0.01430082, 0.01333102, 0.01397189, 0.01331703,\n",
       "        0.01498373, 0.01301281, 0.0136826 , 0.01297355, 0.01400121]),\n",
       " 'std_fit_time': array([2.16211635e-03, 9.39375495e-04, 8.24031667e-04, 4.43173317e-04,\n",
       "        4.52657163e-04, 1.26380147e-03, 4.51701992e-04, 8.17901676e-04,\n",
       "        1.41225757e-03, 9.43698250e-04, 8.17119762e-04, 4.68741531e-04,\n",
       "        4.71314168e-04, 1.87730977e-06, 4.71763815e-04, 4.70928673e-04,\n",
       "        1.24615420e-03, 9.40775310e-04, 8.18092514e-04, 4.70920787e-04,\n",
       "        4.70865085e-04, 1.24592094e-03, 2.06323544e-06, 9.42236398e-04,\n",
       "        4.72332993e-04, 2.32245750e-06, 1.24857914e-03, 1.24613577e-03,\n",
       "        4.66987731e-04, 4.70529118e-04, 4.70865085e-04, 4.74404927e-04,\n",
       "        4.71707890e-04, 8.18774042e-04, 9.45157172e-04, 4.68616851e-04,\n",
       "        8.14491350e-04, 2.86697591e-03, 4.74348821e-04, 4.72667277e-04,\n",
       "        1.01152436e-06, 1.24644992e-03, 9.42066539e-04, 8.52436948e-03,\n",
       "        1.24653497e-03, 1.62995544e-03, 1.70160742e-03, 8.15368589e-04,\n",
       "        1.41557263e-03, 8.17118788e-04, 9.42853421e-04, 3.40093910e-03,\n",
       "        4.72269487e-04, 4.71426560e-04, 9.41953986e-04, 4.72326174e-04,\n",
       "        4.70527507e-04, 4.72213542e-04, 9.44989261e-04, 9.39593763e-04,\n",
       "        9.42179071e-04, 4.49345289e-03, 4.70246599e-04, 1.24606729e-03,\n",
       "        2.62777959e-03, 1.24940399e-03, 1.94667955e-06, 8.18390572e-04,\n",
       "        2.05218045e-03, 8.15952839e-04, 9.44876328e-04, 9.40326953e-04,\n",
       "        4.70929840e-04, 1.90638661e-03, 3.35802692e-05, 1.24417072e-03,\n",
       "        1.84071908e-05, 1.24623676e-03, 1.04227105e-03, 1.48818186e-03,\n",
       "        3.43862469e-04, 1.21819585e-03, 4.71651423e-04, 1.40488939e-03,\n",
       "        4.52197583e-04, 1.42492228e-03, 2.13002091e-05, 1.68702171e-03,\n",
       "        2.09084621e-05, 7.84803861e-04]),\n",
       " 'mean_score_time': array([0.00300034, 0.00301417, 0.00132902, 0.00133332, 0.00200152,\n",
       "        0.00165264, 0.00201678, 0.00199946, 0.00199906, 0.00133387,\n",
       "        0.00233348, 0.00166424, 0.00166686, 0.00199986, 0.00166774,\n",
       "        0.00299803, 0.00166583, 0.00233293, 0.00133324, 0.00166678,\n",
       "        0.002002  , 0.00166694, 0.00133379, 0.00166631, 0.00166678,\n",
       "        0.0020024 , 0.00233269, 0.00300002, 0.00200049, 0.00199962,\n",
       "        0.00333381, 0.00299788, 0.00300002, 0.00233388, 0.00233102,\n",
       "        0.00233428, 0.00299994, 0.00266441, 0.00233022, 0.00199874,\n",
       "        0.00200025, 0.00233285, 0.0043323 , 0.00300185, 0.00366831,\n",
       "        0.0033319 , 0.00366656, 0.00266536, 0.00200129, 0.00266528,\n",
       "        0.00300058, 0.00199938, 0.00166583, 0.00266623, 0.0019989 ,\n",
       "        0.00199866, 0.0016667 , 0.00233356, 0.00233499, 0.00200168,\n",
       "        0.00400098, 0.00366735, 0.00366902, 0.00366783, 0.00299954,\n",
       "        0.00333341, 0.00299946, 0.00334819, 0.0056649 , 0.00333357,\n",
       "        0.00400019, 0.00333556, 0.00333309, 0.00334883, 0.00301313,\n",
       "        0.00334756, 0.00298436, 0.00401306, 0.00368198, 0.00354624,\n",
       "        0.00370876, 0.00298969, 0.00335026, 0.0030009 , 0.00333484,\n",
       "        0.00300447, 0.00398588, 0.00365233, 0.00434844, 0.00334493]),\n",
       " 'std_score_time': array([8.16437595e-04, 8.04883381e-04, 4.74723037e-04, 4.39684040e-04,\n",
       "        8.18482822e-04, 4.90195956e-04, 8.35646633e-04, 1.92054843e-06,\n",
       "        2.51063808e-06, 4.71089867e-04, 4.68448819e-04, 4.70755108e-04,\n",
       "        4.72100989e-04, 8.15269673e-04, 4.71876126e-04, 1.48680106e-06,\n",
       "        4.68509717e-04, 4.71707689e-04, 4.69685488e-04, 4.71539032e-04,\n",
       "        8.18189483e-04, 4.73168779e-04, 4.71147541e-04, 4.71202581e-04,\n",
       "        9.43246515e-04, 3.10453176e-06, 4.69855981e-04, 8.18092097e-04,\n",
       "        2.76218211e-06, 8.14686507e-04, 4.70190736e-04, 7.01885292e-07,\n",
       "        8.16048136e-04, 4.69687062e-04, 4.71877331e-04, 4.73117720e-04,\n",
       "        8.18094444e-04, 4.69069245e-04, 4.67380543e-04, 2.46494014e-06,\n",
       "        1.40826266e-06, 4.71596583e-04, 4.73730737e-04, 8.17703441e-04,\n",
       "        4.70527507e-04, 9.44595575e-04, 4.71484715e-04, 4.69405206e-04,\n",
       "        1.36267568e-06, 4.70864682e-04, 2.24783192e-07, 8.15175006e-04,\n",
       "        4.70531051e-04, 4.72720055e-04, 8.17702761e-04, 1.46971083e-06,\n",
       "        4.71651825e-04, 4.70752210e-04, 4.70589411e-04, 3.31126319e-06,\n",
       "        8.18389298e-04, 4.72551678e-04, 4.68168418e-04, 4.73406371e-04,\n",
       "        1.54512899e-06, 4.70134207e-04, 1.80877156e-06, 4.59567972e-04,\n",
       "        4.69910271e-04, 4.72887650e-04, 8.14782881e-04, 4.74180184e-04,\n",
       "        4.72385889e-04, 4.59695051e-04, 4.18463662e-05, 4.93053631e-04,\n",
       "        4.04048960e-05, 7.99271182e-04, 9.34730296e-04, 4.33378919e-04,\n",
       "        2.08482048e-04, 3.65002848e-05, 4.61790262e-04, 3.28252736e-06,\n",
       "        4.43318831e-04, 3.25656468e-05, 2.07227672e-05, 9.81349774e-04,\n",
       "        9.53724072e-04, 4.63527101e-04]),\n",
       " 'param_polynomial_features__degree': masked_array(data=[1, 1, 1, 1, 1, 1, 1, 1, 1, 1, 1, 1, 1, 1, 1, 1, 1, 1,\n",
       "                    1, 1, 1, 1, 1, 1, 1, 1, 1, 1, 1, 1, 2, 2, 2, 2, 2, 2,\n",
       "                    2, 2, 2, 2, 2, 2, 2, 2, 2, 2, 2, 2, 2, 2, 2, 2, 2, 2,\n",
       "                    2, 2, 2, 2, 2, 2, 3, 3, 3, 3, 3, 3, 3, 3, 3, 3, 3, 3,\n",
       "                    3, 3, 3, 3, 3, 3, 3, 3, 3, 3, 3, 3, 3, 3, 3, 3, 3, 3],\n",
       "              mask=[False, False, False, False, False, False, False, False,\n",
       "                    False, False, False, False, False, False, False, False,\n",
       "                    False, False, False, False, False, False, False, False,\n",
       "                    False, False, False, False, False, False, False, False,\n",
       "                    False, False, False, False, False, False, False, False,\n",
       "                    False, False, False, False, False, False, False, False,\n",
       "                    False, False, False, False, False, False, False, False,\n",
       "                    False, False, False, False, False, False, False, False,\n",
       "                    False, False, False, False, False, False, False, False,\n",
       "                    False, False, False, False, False, False, False, False,\n",
       "                    False, False, False, False, False, False, False, False,\n",
       "                    False, False],\n",
       "        fill_value='?',\n",
       "             dtype=object),\n",
       " 'param_ridge_regression__alpha': masked_array(data=[4.0, 4.228267015769416, 4.4695604891609,\n",
       "                    4.724623797826311, 4.994242741567055,\n",
       "                    5.279247963228449, 5.58051750774668, 5.898979527232258,\n",
       "                    6.235615140423803, 6.591461455321584,\n",
       "                    6.9676147643129305, 7.365233921633089,\n",
       "                    7.785543913566802, 8.229839632389709,\n",
       "                    8.699489865676323, 9.195941513264877,\n",
       "                    9.720724044870641, 10.275454212080797,\n",
       "                    10.861841029247536, 11.481691038624568,\n",
       "                    12.136913875967887, 12.82952815374728,\n",
       "                    13.561667680093686, 14.335588032641558,\n",
       "                    15.153673507519274, 16.018444464895637,\n",
       "                    16.932565093713098, 17.898851619528912,\n",
       "                    18.920280980751272, 20.0, 4.0, 4.228267015769416,\n",
       "                    4.4695604891609, 4.724623797826311, 4.994242741567055,\n",
       "                    5.279247963228449, 5.58051750774668, 5.898979527232258,\n",
       "                    6.235615140423803, 6.591461455321584,\n",
       "                    6.9676147643129305, 7.365233921633089,\n",
       "                    7.785543913566802, 8.229839632389709,\n",
       "                    8.699489865676323, 9.195941513264877,\n",
       "                    9.720724044870641, 10.275454212080797,\n",
       "                    10.861841029247536, 11.481691038624568,\n",
       "                    12.136913875967887, 12.82952815374728,\n",
       "                    13.561667680093686, 14.335588032641558,\n",
       "                    15.153673507519274, 16.018444464895637,\n",
       "                    16.932565093713098, 17.898851619528912,\n",
       "                    18.920280980751272, 20.0, 4.0, 4.228267015769416,\n",
       "                    4.4695604891609, 4.724623797826311, 4.994242741567055,\n",
       "                    5.279247963228449, 5.58051750774668, 5.898979527232258,\n",
       "                    6.235615140423803, 6.591461455321584,\n",
       "                    6.9676147643129305, 7.365233921633089,\n",
       "                    7.785543913566802, 8.229839632389709,\n",
       "                    8.699489865676323, 9.195941513264877,\n",
       "                    9.720724044870641, 10.275454212080797,\n",
       "                    10.861841029247536, 11.481691038624568,\n",
       "                    12.136913875967887, 12.82952815374728,\n",
       "                    13.561667680093686, 14.335588032641558,\n",
       "                    15.153673507519274, 16.018444464895637,\n",
       "                    16.932565093713098, 17.898851619528912,\n",
       "                    18.920280980751272, 20.0],\n",
       "              mask=[False, False, False, False, False, False, False, False,\n",
       "                    False, False, False, False, False, False, False, False,\n",
       "                    False, False, False, False, False, False, False, False,\n",
       "                    False, False, False, False, False, False, False, False,\n",
       "                    False, False, False, False, False, False, False, False,\n",
       "                    False, False, False, False, False, False, False, False,\n",
       "                    False, False, False, False, False, False, False, False,\n",
       "                    False, False, False, False, False, False, False, False,\n",
       "                    False, False, False, False, False, False, False, False,\n",
       "                    False, False, False, False, False, False, False, False,\n",
       "                    False, False, False, False, False, False, False, False,\n",
       "                    False, False],\n",
       "        fill_value='?',\n",
       "             dtype=object),\n",
       " 'params': [{'polynomial_features__degree': 1, 'ridge_regression__alpha': 4.0},\n",
       "  {'polynomial_features__degree': 1,\n",
       "   'ridge_regression__alpha': 4.228267015769416},\n",
       "  {'polynomial_features__degree': 1,\n",
       "   'ridge_regression__alpha': 4.4695604891609},\n",
       "  {'polynomial_features__degree': 1,\n",
       "   'ridge_regression__alpha': 4.724623797826311},\n",
       "  {'polynomial_features__degree': 1,\n",
       "   'ridge_regression__alpha': 4.994242741567055},\n",
       "  {'polynomial_features__degree': 1,\n",
       "   'ridge_regression__alpha': 5.279247963228449},\n",
       "  {'polynomial_features__degree': 1,\n",
       "   'ridge_regression__alpha': 5.58051750774668},\n",
       "  {'polynomial_features__degree': 1,\n",
       "   'ridge_regression__alpha': 5.898979527232258},\n",
       "  {'polynomial_features__degree': 1,\n",
       "   'ridge_regression__alpha': 6.235615140423803},\n",
       "  {'polynomial_features__degree': 1,\n",
       "   'ridge_regression__alpha': 6.591461455321584},\n",
       "  {'polynomial_features__degree': 1,\n",
       "   'ridge_regression__alpha': 6.9676147643129305},\n",
       "  {'polynomial_features__degree': 1,\n",
       "   'ridge_regression__alpha': 7.365233921633089},\n",
       "  {'polynomial_features__degree': 1,\n",
       "   'ridge_regression__alpha': 7.785543913566802},\n",
       "  {'polynomial_features__degree': 1,\n",
       "   'ridge_regression__alpha': 8.229839632389709},\n",
       "  {'polynomial_features__degree': 1,\n",
       "   'ridge_regression__alpha': 8.699489865676323},\n",
       "  {'polynomial_features__degree': 1,\n",
       "   'ridge_regression__alpha': 9.195941513264877},\n",
       "  {'polynomial_features__degree': 1,\n",
       "   'ridge_regression__alpha': 9.720724044870641},\n",
       "  {'polynomial_features__degree': 1,\n",
       "   'ridge_regression__alpha': 10.275454212080797},\n",
       "  {'polynomial_features__degree': 1,\n",
       "   'ridge_regression__alpha': 10.861841029247536},\n",
       "  {'polynomial_features__degree': 1,\n",
       "   'ridge_regression__alpha': 11.481691038624568},\n",
       "  {'polynomial_features__degree': 1,\n",
       "   'ridge_regression__alpha': 12.136913875967887},\n",
       "  {'polynomial_features__degree': 1,\n",
       "   'ridge_regression__alpha': 12.82952815374728},\n",
       "  {'polynomial_features__degree': 1,\n",
       "   'ridge_regression__alpha': 13.561667680093686},\n",
       "  {'polynomial_features__degree': 1,\n",
       "   'ridge_regression__alpha': 14.335588032641558},\n",
       "  {'polynomial_features__degree': 1,\n",
       "   'ridge_regression__alpha': 15.153673507519274},\n",
       "  {'polynomial_features__degree': 1,\n",
       "   'ridge_regression__alpha': 16.018444464895637},\n",
       "  {'polynomial_features__degree': 1,\n",
       "   'ridge_regression__alpha': 16.932565093713098},\n",
       "  {'polynomial_features__degree': 1,\n",
       "   'ridge_regression__alpha': 17.898851619528912},\n",
       "  {'polynomial_features__degree': 1,\n",
       "   'ridge_regression__alpha': 18.920280980751272},\n",
       "  {'polynomial_features__degree': 1, 'ridge_regression__alpha': 20.0},\n",
       "  {'polynomial_features__degree': 2, 'ridge_regression__alpha': 4.0},\n",
       "  {'polynomial_features__degree': 2,\n",
       "   'ridge_regression__alpha': 4.228267015769416},\n",
       "  {'polynomial_features__degree': 2,\n",
       "   'ridge_regression__alpha': 4.4695604891609},\n",
       "  {'polynomial_features__degree': 2,\n",
       "   'ridge_regression__alpha': 4.724623797826311},\n",
       "  {'polynomial_features__degree': 2,\n",
       "   'ridge_regression__alpha': 4.994242741567055},\n",
       "  {'polynomial_features__degree': 2,\n",
       "   'ridge_regression__alpha': 5.279247963228449},\n",
       "  {'polynomial_features__degree': 2,\n",
       "   'ridge_regression__alpha': 5.58051750774668},\n",
       "  {'polynomial_features__degree': 2,\n",
       "   'ridge_regression__alpha': 5.898979527232258},\n",
       "  {'polynomial_features__degree': 2,\n",
       "   'ridge_regression__alpha': 6.235615140423803},\n",
       "  {'polynomial_features__degree': 2,\n",
       "   'ridge_regression__alpha': 6.591461455321584},\n",
       "  {'polynomial_features__degree': 2,\n",
       "   'ridge_regression__alpha': 6.9676147643129305},\n",
       "  {'polynomial_features__degree': 2,\n",
       "   'ridge_regression__alpha': 7.365233921633089},\n",
       "  {'polynomial_features__degree': 2,\n",
       "   'ridge_regression__alpha': 7.785543913566802},\n",
       "  {'polynomial_features__degree': 2,\n",
       "   'ridge_regression__alpha': 8.229839632389709},\n",
       "  {'polynomial_features__degree': 2,\n",
       "   'ridge_regression__alpha': 8.699489865676323},\n",
       "  {'polynomial_features__degree': 2,\n",
       "   'ridge_regression__alpha': 9.195941513264877},\n",
       "  {'polynomial_features__degree': 2,\n",
       "   'ridge_regression__alpha': 9.720724044870641},\n",
       "  {'polynomial_features__degree': 2,\n",
       "   'ridge_regression__alpha': 10.275454212080797},\n",
       "  {'polynomial_features__degree': 2,\n",
       "   'ridge_regression__alpha': 10.861841029247536},\n",
       "  {'polynomial_features__degree': 2,\n",
       "   'ridge_regression__alpha': 11.481691038624568},\n",
       "  {'polynomial_features__degree': 2,\n",
       "   'ridge_regression__alpha': 12.136913875967887},\n",
       "  {'polynomial_features__degree': 2,\n",
       "   'ridge_regression__alpha': 12.82952815374728},\n",
       "  {'polynomial_features__degree': 2,\n",
       "   'ridge_regression__alpha': 13.561667680093686},\n",
       "  {'polynomial_features__degree': 2,\n",
       "   'ridge_regression__alpha': 14.335588032641558},\n",
       "  {'polynomial_features__degree': 2,\n",
       "   'ridge_regression__alpha': 15.153673507519274},\n",
       "  {'polynomial_features__degree': 2,\n",
       "   'ridge_regression__alpha': 16.018444464895637},\n",
       "  {'polynomial_features__degree': 2,\n",
       "   'ridge_regression__alpha': 16.932565093713098},\n",
       "  {'polynomial_features__degree': 2,\n",
       "   'ridge_regression__alpha': 17.898851619528912},\n",
       "  {'polynomial_features__degree': 2,\n",
       "   'ridge_regression__alpha': 18.920280980751272},\n",
       "  {'polynomial_features__degree': 2, 'ridge_regression__alpha': 20.0},\n",
       "  {'polynomial_features__degree': 3, 'ridge_regression__alpha': 4.0},\n",
       "  {'polynomial_features__degree': 3,\n",
       "   'ridge_regression__alpha': 4.228267015769416},\n",
       "  {'polynomial_features__degree': 3,\n",
       "   'ridge_regression__alpha': 4.4695604891609},\n",
       "  {'polynomial_features__degree': 3,\n",
       "   'ridge_regression__alpha': 4.724623797826311},\n",
       "  {'polynomial_features__degree': 3,\n",
       "   'ridge_regression__alpha': 4.994242741567055},\n",
       "  {'polynomial_features__degree': 3,\n",
       "   'ridge_regression__alpha': 5.279247963228449},\n",
       "  {'polynomial_features__degree': 3,\n",
       "   'ridge_regression__alpha': 5.58051750774668},\n",
       "  {'polynomial_features__degree': 3,\n",
       "   'ridge_regression__alpha': 5.898979527232258},\n",
       "  {'polynomial_features__degree': 3,\n",
       "   'ridge_regression__alpha': 6.235615140423803},\n",
       "  {'polynomial_features__degree': 3,\n",
       "   'ridge_regression__alpha': 6.591461455321584},\n",
       "  {'polynomial_features__degree': 3,\n",
       "   'ridge_regression__alpha': 6.9676147643129305},\n",
       "  {'polynomial_features__degree': 3,\n",
       "   'ridge_regression__alpha': 7.365233921633089},\n",
       "  {'polynomial_features__degree': 3,\n",
       "   'ridge_regression__alpha': 7.785543913566802},\n",
       "  {'polynomial_features__degree': 3,\n",
       "   'ridge_regression__alpha': 8.229839632389709},\n",
       "  {'polynomial_features__degree': 3,\n",
       "   'ridge_regression__alpha': 8.699489865676323},\n",
       "  {'polynomial_features__degree': 3,\n",
       "   'ridge_regression__alpha': 9.195941513264877},\n",
       "  {'polynomial_features__degree': 3,\n",
       "   'ridge_regression__alpha': 9.720724044870641},\n",
       "  {'polynomial_features__degree': 3,\n",
       "   'ridge_regression__alpha': 10.275454212080797},\n",
       "  {'polynomial_features__degree': 3,\n",
       "   'ridge_regression__alpha': 10.861841029247536},\n",
       "  {'polynomial_features__degree': 3,\n",
       "   'ridge_regression__alpha': 11.481691038624568},\n",
       "  {'polynomial_features__degree': 3,\n",
       "   'ridge_regression__alpha': 12.136913875967887},\n",
       "  {'polynomial_features__degree': 3,\n",
       "   'ridge_regression__alpha': 12.82952815374728},\n",
       "  {'polynomial_features__degree': 3,\n",
       "   'ridge_regression__alpha': 13.561667680093686},\n",
       "  {'polynomial_features__degree': 3,\n",
       "   'ridge_regression__alpha': 14.335588032641558},\n",
       "  {'polynomial_features__degree': 3,\n",
       "   'ridge_regression__alpha': 15.153673507519274},\n",
       "  {'polynomial_features__degree': 3,\n",
       "   'ridge_regression__alpha': 16.018444464895637},\n",
       "  {'polynomial_features__degree': 3,\n",
       "   'ridge_regression__alpha': 16.932565093713098},\n",
       "  {'polynomial_features__degree': 3,\n",
       "   'ridge_regression__alpha': 17.898851619528912},\n",
       "  {'polynomial_features__degree': 3,\n",
       "   'ridge_regression__alpha': 18.920280980751272},\n",
       "  {'polynomial_features__degree': 3, 'ridge_regression__alpha': 20.0}],\n",
       " 'split0_test_score': array([0.67211108, 0.67210314, 0.67209324, 0.67208118, 0.67206672,\n",
       "        0.67204963, 0.67202966, 0.67200655, 0.67198001, 0.67194974,\n",
       "        0.67191544, 0.67187678, 0.67183341, 0.67178499, 0.67173113,\n",
       "        0.67167146, 0.67160557, 0.67153305, 0.67145348, 0.6713664 ,\n",
       "        0.67127137, 0.6711679 , 0.67105552, 0.6709337 , 0.67080194,\n",
       "        0.67065969, 0.67050638, 0.67034142, 0.67016421, 0.66997409,\n",
       "        0.8417071 , 0.84096666, 0.84019706, 0.83939674, 0.83856413,\n",
       "        0.83769769, 0.8367959 , 0.83585728, 0.83488043, 0.83386401,\n",
       "        0.83280679, 0.83170766, 0.83056561, 0.82937982, 0.82814961,\n",
       "        0.82687449, 0.82555416, 0.82418854, 0.82277776, 0.82132218,\n",
       "        0.81982238, 0.81827919, 0.81669366, 0.81506708, 0.81340097,\n",
       "        0.81169704, 0.80995724, 0.80818367, 0.80637862, 0.80454453,\n",
       "        0.82055593, 0.82118571, 0.82178961, 0.82236672, 0.82291624,\n",
       "        0.82343749, 0.82392991, 0.82439308, 0.82482665, 0.82523043,\n",
       "        0.82560431, 0.82594827, 0.8262624 , 0.82654686, 0.82680191,\n",
       "        0.82702784, 0.82722502, 0.82739388, 0.82753485, 0.82764842,\n",
       "        0.82773508, 0.82779532, 0.82782965, 0.82783852, 0.8278224 ,\n",
       "        0.8277817 , 0.82771678, 0.82762796, 0.82751549, 0.82737956]),\n",
       " 'split1_test_score': array([0.74823479, 0.74820653, 0.74817547, 0.74814136, 0.74810392,\n",
       "        0.74806286, 0.74801786, 0.74796859, 0.7479147 , 0.74785579,\n",
       "        0.74779145, 0.74772124, 0.74764471, 0.74756134, 0.74747062,\n",
       "        0.74737198, 0.74726483, 0.74714854, 0.74702245, 0.74688586,\n",
       "        0.74673803, 0.74657817, 0.74640546, 0.74621904, 0.74601799,\n",
       "        0.74580135, 0.74556811, 0.74531721, 0.74504752, 0.74475787,\n",
       "        0.86253663, 0.86218405, 0.86180012, 0.86138328, 0.860932  ,\n",
       "        0.86044469, 0.85991981, 0.85935582, 0.85875123, 0.8581046 ,\n",
       "        0.85741457, 0.85667985, 0.85589927, 0.8550718 , 0.85419652,\n",
       "        0.85327268, 0.85229972, 0.85127723, 0.85020502, 0.8490831 ,\n",
       "        0.84791169, 0.84669123, 0.84542237, 0.844106  , 0.84274321,\n",
       "        0.84133529, 0.83988377, 0.83839034, 0.83685687, 0.83528541,\n",
       "        0.87268617, 0.8726658 , 0.87263236, 0.87258574, 0.87252575,\n",
       "        0.87245217, 0.87236475, 0.87226324, 0.87214734, 0.87201679,\n",
       "        0.87187129, 0.87171059, 0.87153442, 0.87134256, 0.87113478,\n",
       "        0.87091089, 0.87067073, 0.87041415, 0.87014103, 0.86985128,\n",
       "        0.86954482, 0.86922156, 0.86888146, 0.86852446, 0.86815049,\n",
       "        0.86775949, 0.86735135, 0.86692596, 0.86648318, 0.8660228 ]),\n",
       " 'split2_test_score': array([0.70180089, 0.70198642, 0.70217792, 0.70237536, 0.70257867,\n",
       "        0.70278778, 0.70300256, 0.70322288, 0.70344855, 0.70367937,\n",
       "        0.70391508, 0.70415539, 0.70439999, 0.70464849, 0.70490048,\n",
       "        0.70515549, 0.70541302, 0.7056725 , 0.7059333 , 0.70619477,\n",
       "        0.70645615, 0.70671666, 0.70697543, 0.70723154, 0.707484  ,\n",
       "        0.70773173, 0.70797357, 0.70820831, 0.70843462, 0.7086511 ,\n",
       "        0.85965641, 0.85891614, 0.85812923, 0.85729477, 0.85641187,\n",
       "        0.85547968, 0.8544974 , 0.85346429, 0.85237968, 0.85124302,\n",
       "        0.85005385, 0.84881182, 0.84751674, 0.84616856, 0.84476742,\n",
       "        0.84331361, 0.84180763, 0.84025016, 0.8386421 , 0.83698456,\n",
       "        0.83527885, 0.8335265 , 0.83172925, 0.82988903, 0.82800797,\n",
       "        0.82608837, 0.8241327 , 0.82214357, 0.82012374, 0.81807606,\n",
       "        0.85395614, 0.85468096, 0.85535497, 0.85597972, 0.85655678,\n",
       "        0.8570877 , 0.85757399, 0.85801713, 0.85841851, 0.85877946,\n",
       "        0.8591012 , 0.85938488, 0.8596315 , 0.85984196, 0.86001703,\n",
       "        0.86015736, 0.86026343, 0.86033562, 0.86037414, 0.86037911,\n",
       "        0.86035046, 0.86028802, 0.86019151, 0.86006049, 0.85989444,\n",
       "        0.85969272, 0.8594546 , 0.85917926, 0.8588658 , 0.85851325]),\n",
       " 'mean_test_score': array([0.70738225, 0.70743203, 0.70748221, 0.70753263, 0.7075831 ,\n",
       "        0.70763342, 0.70768336, 0.70773267, 0.70778109, 0.7078283 ,\n",
       "        0.70787399, 0.7079178 , 0.70795937, 0.70799827, 0.70803407,\n",
       "        0.70806631, 0.70809447, 0.70811803, 0.70813641, 0.70814901,\n",
       "        0.70815518, 0.70815424, 0.70814547, 0.7081281 , 0.70810131,\n",
       "        0.70806425, 0.70801602, 0.70795565, 0.70788212, 0.70779435,\n",
       "        0.85463338, 0.85402228, 0.85337547, 0.8526916 , 0.85196933,\n",
       "        0.85120735, 0.85040437, 0.84955913, 0.84867045, 0.84773721,\n",
       "        0.8467584 , 0.84573311, 0.84466054, 0.84354006, 0.84237118,\n",
       "        0.84115359, 0.83988717, 0.83857198, 0.8372083 , 0.83579661,\n",
       "        0.83433764, 0.83283231, 0.83128176, 0.82968737, 0.82805071,\n",
       "        0.82637357, 0.8246579 , 0.82290586, 0.82111975, 0.819302  ,\n",
       "        0.84906608, 0.84951082, 0.84992565, 0.85031073, 0.85066626,\n",
       "        0.85099245, 0.85128955, 0.85155781, 0.8517975 , 0.85200889,\n",
       "        0.85219227, 0.85234791, 0.85247611, 0.85257713, 0.85265124,\n",
       "        0.85269869, 0.85271973, 0.85271455, 0.85268334, 0.85262627,\n",
       "        0.85254345, 0.85243497, 0.85230087, 0.85214116, 0.85195578,\n",
       "        0.85174463, 0.85150758, 0.85124439, 0.85095482, 0.85063853]),\n",
       " 'std_test_score': array([0.03132697, 0.03130679, 0.03128608, 0.03126485, 0.0312431 ,\n",
       "        0.03122086, 0.03119812, 0.0311749 , 0.03115122, 0.03112707,\n",
       "        0.03110249, 0.03107746, 0.031052  , 0.03102612, 0.03099981,\n",
       "        0.03097307, 0.0309459 , 0.03091829, 0.03089021, 0.03086164,\n",
       "        0.03083255, 0.03080289, 0.03077261, 0.03074165, 0.03070993,\n",
       "        0.03067736, 0.03064384, 0.03060926, 0.03057348, 0.03053636,\n",
       "        0.00921558, 0.00932762, 0.00943828, 0.00954791, 0.00965686,\n",
       "        0.00976545, 0.00987399, 0.00998275, 0.010092  , 0.01020195,\n",
       "        0.01031279, 0.0104247 , 0.01053777, 0.01065211, 0.01076776,\n",
       "        0.01088471, 0.01100295, 0.01112239, 0.01124294, 0.01136444,\n",
       "        0.01148671, 0.01160955, 0.01173272, 0.01185595, 0.01197896,\n",
       "        0.01210145, 0.0122231 , 0.0123436 , 0.01246261, 0.01257981,\n",
       "        0.02156115, 0.02133225, 0.02110852, 0.02089004, 0.02067687,\n",
       "        0.02046906, 0.02026662, 0.02006955, 0.0198778 , 0.0196913 ,\n",
       "        0.01950997, 0.01933368, 0.01916227, 0.01899556, 0.01883334,\n",
       "        0.01867537, 0.01852139, 0.01837111, 0.01822421, 0.01808038,\n",
       "        0.01793926, 0.01780049, 0.0176637 , 0.01752851, 0.01739455,\n",
       "        0.01726142, 0.01712875, 0.01699617, 0.01686333, 0.01672988]),\n",
       " 'rank_test_score': array([90, 89, 88, 87, 86, 85, 84, 83, 82, 80, 79, 77, 75, 74, 72, 70, 69,\n",
       "        67, 65, 63, 61, 62, 64, 66, 68, 71, 73, 76, 78, 81,  1,  2,  3,  7,\n",
       "        20, 28, 33, 36, 39, 40, 41, 42, 43, 44, 45, 46, 47, 48, 49, 50, 51,\n",
       "        52, 53, 54, 55, 56, 57, 58, 59, 60, 38, 37, 35, 34, 31, 29, 26, 24,\n",
       "        22, 19, 17, 15, 13, 11,  9,  6,  4,  5,  8, 10, 12, 14, 16, 18, 21,\n",
       "        23, 25, 27, 30, 32])}"
      ]
     },
     "execution_count": 129,
     "metadata": {},
     "output_type": "execute_result"
    }
   ],
   "source": [
    "grid.cv_results_"
   ]
  },
  {
   "cell_type": "code",
   "execution_count": 130,
   "id": "42c38b09",
   "metadata": {},
   "outputs": [],
   "source": [
    "#RandomSearchCV is also present"
   ]
  }
 ],
 "metadata": {
  "kernelspec": {
   "display_name": "Python 3",
   "language": "python",
   "name": "python3"
  },
  "language_info": {
   "codemirror_mode": {
    "name": "ipython",
    "version": 3
   },
   "file_extension": ".py",
   "mimetype": "text/x-python",
   "name": "python",
   "nbconvert_exporter": "python",
   "pygments_lexer": "ipython3",
   "version": "3.9.5"
  }
 },
 "nbformat": 4,
 "nbformat_minor": 5
}
